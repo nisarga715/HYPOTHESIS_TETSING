{
 "cells": [
  {
   "cell_type": "markdown",
   "id": "2c368881-a45d-4e1c-bf42-bbb792f7c898",
   "metadata": {},
   "source": [
    "## Bombay hospitality Ltd. operates a franchise model for producing exotic Norwegian dinners throughout New England. The operating cost for a franchise in a week (W) is given by the equation W = $1,000 + $5X, where X represents the number of units produced in a week. Recent feedback from restaurant owners suggests that this cost model may no longer be accurate, as their observed weekly operating costs are higher.\n",
    "Objective:\n",
    "To investigate the restaurant owners' claim about the increase in weekly operating costs using hypothesis testing.\n",
    "\n",
    "Data Provided:\n",
    "•\tThe theoretical weekly operating cost model: W = $1,000 + $5X\n",
    "•\tSample of 25 restaurants with a mean weekly cost of Rs. 3,050\n",
    "•\tNumber of units produced in a week (X) follows a normal distribution with a mean (μ) of 600 units and a standard deviation (σ) of 25 units\n"
   ]
  },
  {
   "cell_type": "code",
   "execution_count": 7,
   "id": "9940e3ee-abcf-4c7b-bb72-437f0fff8995",
   "metadata": {},
   "outputs": [],
   "source": [
    "# H0 -- The weekly operating cost follows the theoretical model # Mean=1000+5*600 = 4000\n",
    "# Ha---The weekly operating cost is higher than the theoretical model # Mean>400"
   ]
  },
  {
   "cell_type": "code",
   "execution_count": 15,
   "id": "e7713ec1-cc6e-457d-9d83-319a55dac6d4",
   "metadata": {},
   "outputs": [],
   "source": [
    "# Given Data\n",
    "n=25\n",
    "samp_mean=3050\n",
    "# pop_st=5*25\n",
    "pop_st=125\n",
    "pop_mean=4000\n",
    "alpha=0.05"
   ]
  },
  {
   "cell_type": "code",
   "execution_count": 25,
   "id": "27d07461-f1aa-4193-9cf2-f724f2ea6cb8",
   "metadata": {},
   "outputs": [],
   "source": [
    "import scipy.stats as stats\n",
    "import numpy as np"
   ]
  },
  {
   "cell_type": "code",
   "execution_count": 44,
   "id": "30681c52-5828-4c57-bf6e-7f736cf99cc7",
   "metadata": {},
   "outputs": [
    {
     "data": {
      "text/plain": [
       "-38.0"
      ]
     },
     "execution_count": 44,
     "metadata": {},
     "output_type": "execute_result"
    }
   ],
   "source": [
    "z_score=(samp_mean-pop_mean)/(pop_st/np.sqrt(n))\n",
    "z_score"
   ]
  },
  {
   "cell_type": "code",
   "execution_count": 73,
   "id": "b18a3af4-ea8f-4787-86b0-48b0a6cf8f85",
   "metadata": {},
   "outputs": [
    {
     "data": {
      "text/plain": [
       "-0.6744897501960817"
      ]
     },
     "execution_count": 73,
     "metadata": {},
     "output_type": "execute_result"
    }
   ],
   "source": [
    "z_critical=stats.norm.ppf(0.25)\n",
    "z_critical"
   ]
  },
  {
   "cell_type": "code",
   "execution_count": 75,
   "id": "0a03f6d1-33e4-40e2-ac5c-9ddfe0189a0b",
   "metadata": {},
   "outputs": [],
   "source": [
    "# As we are in negative side and z_critical > z_score Hence fail to reject H0\n",
    "# The weekly operating cost follows the theoretical model"
   ]
  },
  {
   "cell_type": "markdown",
   "id": "a7a1f89f-80e5-44bc-97b9-2d96984db98e",
   "metadata": {},
   "source": [
    "conclusion\n",
    "\n",
    "The weekly operating costs are significantly higher than the model suggests.\n",
    "There is no significant evidence that the weekly operating costs are higher than the model suggests."
   ]
  },
  {
   "cell_type": "code",
   "execution_count": null,
   "id": "4140b169-442e-4328-89cf-01f60549e0f2",
   "metadata": {},
   "outputs": [],
   "source": []
  }
 ],
 "metadata": {
  "kernelspec": {
   "display_name": "Python 3 (ipykernel)",
   "language": "python",
   "name": "python3"
  },
  "language_info": {
   "codemirror_mode": {
    "name": "ipython",
    "version": 3
   },
   "file_extension": ".py",
   "mimetype": "text/x-python",
   "name": "python",
   "nbconvert_exporter": "python",
   "pygments_lexer": "ipython3",
   "version": "3.11.7"
  }
 },
 "nbformat": 4,
 "nbformat_minor": 5
}
